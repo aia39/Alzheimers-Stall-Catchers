{
 "cells": [
  {
   "cell_type": "markdown",
   "metadata": {},
   "source": [
    "# Downloading Dataset"
   ]
  },
  {
   "cell_type": "code",
   "execution_count": 1,
   "metadata": {},
   "outputs": [],
   "source": [
    "import csv\n",
    "import glob\n",
    "import os\n",
    "import numpy as np\n",
    "from tqdm import tqdm"
   ]
  },
  {
   "cell_type": "code",
   "execution_count": 27,
   "metadata": {},
   "outputs": [
    {
     "name": "stdout",
     "output_type": "stream",
     "text": [
      "Already available files: 2399\n",
      "Files in full dataset: 573048 non stall: 571161 stall: 1887\n"
     ]
    }
   ],
   "source": [
    "src_directory = \"../../dataset/micro/\"\n",
    "files = [f for f in glob.glob(src_directory + \"*\" + \".mp4\", recursive=True)]\n",
    "already_downloaded = []\n",
    "\n",
    "for f in files:\n",
    "    already_downloaded.append(f.replace(src_directory, \"\"))\n",
    "\n",
    "    \n",
    "train_labels_file = \"../../dataset/csv_files/train_labels.csv\"\n",
    "with open(train_labels_file, mode='r') as infile:\n",
    "    reader = csv.reader(infile)\n",
    "    train_list = {rows[0]: rows[1] for rows in reader}\n",
    "    infile.close()\n",
    "train_list.pop(\"filename\", None)\n",
    "\n",
    "\n",
    "total_stalled = 0\n",
    "total_nonstall = 0\n",
    "\n",
    "for data in train_list.keys():\n",
    "    if train_list[data] == '1':\n",
    "        total_stalled = total_stalled + 1\n",
    "    elif train_list[data] == '0':\n",
    "        total_nonstall = total_nonstall + 1\n",
    "\n",
    "\n",
    "print(\"Already available files: \" + str(len(already_downloaded)))\n",
    "print(\"Files in full dataset: \" + str(len(train_list)) + \" non stall: \" + \n",
    "      str(total_nonstall) + \" stall: \" + str(total_stalled))"
   ]
  },
  {
   "cell_type": "code",
   "execution_count": 28,
   "metadata": {},
   "outputs": [
    {
     "name": "stdout",
     "output_type": "stream",
     "text": [
      "Unseen non stall: 569468 stall: 1181\n"
     ]
    }
   ],
   "source": [
    "# remove all the files that are already downloaded from the full list\n",
    "\n",
    "for file in range(len(already_downloaded)):\n",
    "    train_list.pop(already_downloaded[file], None)\n",
    "    \n",
    "\n",
    "unseen_stalled = []\n",
    "unseen_nonstall = []\n",
    "\n",
    "for data in train_list.keys():\n",
    "    if train_list[data] == '1':\n",
    "        unseen_stalled.append(data)\n",
    "    elif train_list[data] == '0':\n",
    "        unseen_nonstall.append(data)\n",
    "\n",
    "        \n",
    "print(\"Unseen non stall: \" + str(len(unseen_nonstall)) + \" stall: \" + str(len(unseen_stalled)))"
   ]
  },
  {
   "cell_type": "code",
   "execution_count": 29,
   "metadata": {},
   "outputs": [
    {
     "data": {
      "text/plain": [
       "'url'"
      ]
     },
     "execution_count": 29,
     "metadata": {},
     "output_type": "execute_result"
    }
   ],
   "source": [
    "train_metadata_file = \"../../dataset/csv_files/train_metadata.csv\"\n",
    "\n",
    "\n",
    "with open(train_metadata_file, mode='r') as infile:\n",
    "    reader = csv.reader(infile)\n",
    "    metadata = {rows[0]: rows[1] for rows in reader}\n",
    "    infile.close()\n",
    "metadata.pop(\"filename\", None)"
   ]
  },
  {
   "cell_type": "code",
   "execution_count": 30,
   "metadata": {},
   "outputs": [],
   "source": [
    "download_directory = \"../../download/\"\n",
    "\n",
    "new_downloaded = []"
   ]
  },
  {
   "cell_type": "code",
   "execution_count": 31,
   "metadata": {},
   "outputs": [
    {
     "name": "stderr",
     "output_type": "stream",
     "text": [
      "100%|██████████| 1181/1181 [4:54:27<00:00, 14.96s/it] "
     ]
    },
    {
     "name": "stdout",
     "output_type": "stream",
     "text": [
      "done\n"
     ]
    },
    {
     "name": "stderr",
     "output_type": "stream",
     "text": [
      "\n"
     ]
    }
   ],
   "source": [
    "downloadable = len(unseen_stalled)\n",
    "\n",
    "for i in tqdm(range(downloadable)):\n",
    "    \n",
    "    data = unseen_stalled[0]\n",
    "    url = metadata[data]\n",
    "    \n",
    "    os.system(\"aws s3 cp \" + url + \" \" + download_directory + \" --no-sign-request\")\n",
    "    \n",
    "    new_downloaded.append(data)\n",
    "    unseen_stalled.remove(data)\n",
    "   \n",
    "\n",
    "print(\"done\")"
   ]
  },
  {
   "cell_type": "code",
   "execution_count": 32,
   "metadata": {},
   "outputs": [
    {
     "name": "stdout",
     "output_type": "stream",
     "text": [
      "1181\n"
     ]
    }
   ],
   "source": [
    "print(len(new_downloaded))"
   ]
  },
  {
   "cell_type": "code",
   "execution_count": null,
   "metadata": {},
   "outputs": [],
   "source": []
  },
  {
   "cell_type": "code",
   "execution_count": null,
   "metadata": {},
   "outputs": [],
   "source": []
  }
 ],
 "metadata": {
  "kernelspec": {
   "display_name": "Python 3",
   "language": "python",
   "name": "python3"
  },
  "language_info": {
   "codemirror_mode": {
    "name": "ipython",
    "version": 3
   },
   "file_extension": ".py",
   "mimetype": "text/x-python",
   "name": "python",
   "nbconvert_exporter": "python",
   "pygments_lexer": "ipython3",
   "version": "3.7.7"
  }
 },
 "nbformat": 4,
 "nbformat_minor": 4
}
